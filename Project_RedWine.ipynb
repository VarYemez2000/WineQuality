# Let's load dataset
import pandas as pd
import matplotlib.pyplot as plt
import seaborn as sns
